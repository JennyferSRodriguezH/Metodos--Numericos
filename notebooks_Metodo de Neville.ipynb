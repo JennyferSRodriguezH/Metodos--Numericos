{
  "metadata": {
    "kernelspec": {
      "name": "python",
      "display_name": "Python (Pyodide)",
      "language": "python"
    },
    "language_info": {
      "codemirror_mode": {
        "name": "python",
        "version": 3
      },
      "file_extension": ".py",
      "mimetype": "text/x-python",
      "name": "python",
      "nbconvert_exporter": "python",
      "pygments_lexer": "ipython3",
      "version": "3.8"
    }
  },
  "nbformat_minor": 5,
  "nbformat": 4,
  "cells": [
    {
      "cell_type": "code",
      "source": "import numpy as np\nimport sympy as sym\nimport matplotlib.pyplot as plt\n\n#Prueba\nx =1.5\nx1=[1.0, 1.3, 1.6, 1.9]\ny1 =[0.7651, 0.6200, 0.4554, 0.2818]\n\nn = len(x1) #num de datos de la cadena\n\nQ=np.zeros(n,n,dtype=float) #creamos una matriz de nxn rellena de 0 de tipo float\n\nfor i in range(n): \n  Q[i][0]=y1[i] #rellenamos la fila i con los valores de y1 en la posicion que se encuentra\nfor i in range(n):\n   for j in range(1, i+1):\n      Q[i][j]=((x-xi[i-j])*Q[i][j-1]-(x-xi[i])*Q[i-1][j-1])/(x[i]-xi[i-j])#formula \n\nK= Q[-1][-1]#buscamos el ultimo elemento ya que esa es la aproximacion\nprint(\"El polinomio es: \", K)\n",
      "metadata": {
        "trusted": true
      },
      "execution_count": 3,
      "outputs": [
        {
          "ename": "<class 'TypeError'>",
          "evalue": "argument for zeros() given by name ('dtype') and position (position 1)",
          "traceback": [
            "\u001b[0;31m---------------------------------------------------------------------------\u001b[0m",
            "\u001b[0;31mTypeError\u001b[0m                                 Traceback (most recent call last)",
            "Cell \u001b[0;32mIn[3], line 12\u001b[0m\n\u001b[1;32m      8\u001b[0m y1 \u001b[38;5;241m=\u001b[39m[\u001b[38;5;241m0.7651\u001b[39m, \u001b[38;5;241m0.6200\u001b[39m, \u001b[38;5;241m0.4554\u001b[39m, \u001b[38;5;241m0.2818\u001b[39m]\n\u001b[1;32m     10\u001b[0m n \u001b[38;5;241m=\u001b[39m \u001b[38;5;28mlen\u001b[39m(x1) \u001b[38;5;66;03m#num de datos de la cadena\u001b[39;00m\n\u001b[0;32m---> 12\u001b[0m Q\u001b[38;5;241m=\u001b[39m\u001b[43mnp\u001b[49m\u001b[38;5;241;43m.\u001b[39;49m\u001b[43mzeros\u001b[49m\u001b[43m(\u001b[49m\u001b[43mn\u001b[49m\u001b[43m,\u001b[49m\u001b[43mn\u001b[49m\u001b[43m,\u001b[49m\u001b[43mdtype\u001b[49m\u001b[38;5;241;43m=\u001b[39;49m\u001b[38;5;28;43mfloat\u001b[39;49m\u001b[43m)\u001b[49m \u001b[38;5;66;03m#creamos una matriz de nxn rellena de 0 de tipo float\u001b[39;00m\n\u001b[1;32m     14\u001b[0m \u001b[38;5;28;01mfor\u001b[39;00m i \u001b[38;5;129;01min\u001b[39;00m \u001b[38;5;28mrange\u001b[39m(n): \n\u001b[1;32m     15\u001b[0m   Q[i][\u001b[38;5;241m0\u001b[39m]\u001b[38;5;241m=\u001b[39my1[i] \u001b[38;5;66;03m#rellenamos la fila i con los valores de y1 en la posicion que se encuentra\u001b[39;00m\n",
            "\u001b[0;31mTypeError\u001b[0m: argument for zeros() given by name ('dtype') and position (position 1)"
          ],
          "output_type": "error"
        }
      ],
      "id": "784d19cd-147c-42b4-b0eb-ef43c15b2b2f"
    },
    {
      "cell_type": "code",
      "source": "",
      "metadata": {},
      "execution_count": null,
      "outputs": [],
      "id": "4bb58f64-729a-48b9-add9-4b9d978d48f8"
    }
  ]
}