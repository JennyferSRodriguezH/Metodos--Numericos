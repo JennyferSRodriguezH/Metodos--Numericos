{
  "metadata": {
    "kernelspec": {
      "name": "python",
      "display_name": "Python (Pyodide)",
      "language": "python"
    },
    "language_info": {
      "codemirror_mode": {
        "name": "python",
        "version": 3
      },
      "file_extension": ".py",
      "mimetype": "text/x-python",
      "name": "python",
      "nbconvert_exporter": "python",
      "pygments_lexer": "ipython3",
      "version": "3.8"
    }
  },
  "nbformat_minor": 5,
  "nbformat": 4,
  "cells": [
    {
      "cell_type": "code",
      "source": "import numpy as np\nimport sympy as sym\n\n\n#Datos\nx =1.5 #numero que queremos aproximar\nx1=[1.0, 1.3, 1.6, 1.9]\ny1 =[0.7651, 0.6200, 0.4554, 0.2818]\n\nn = len(x1) #num de datos de la cadena de x1\n\nQ=np.zeros(n,n,dtype=float) #creamos una matriz de nxn rellena de 0 de tipo float\n\nfor i in range(n): \n  Q[i][0]=y1[i] #rellenamos la fila i con los valores de y1 en la posicion que se encuentra\nfor i in range(n):\n   for j in range(1, i+1):\n      Q[i][j]=((x-xi[i-j])*Q[i][j-1]-(x-xi[i])*Q[i-1][j-1])/(x[i]-xi[i-j])#formula \n\nK= Q[-1][-1]#buscamos el ultimo elemento ya que esa es la aproximacion\nprint(\"La aproximacion es: \", K)",
      "metadata": {},
      "execution_count": null,
      "outputs": [],
      "id": "4bb58f64-729a-48b9-add9-4b9d978d48f8"
    }
  ]
}