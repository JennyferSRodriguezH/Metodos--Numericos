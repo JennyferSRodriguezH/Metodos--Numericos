{
  "nbformat": 4,
  "nbformat_minor": 0,
  "metadata": {
    "colab": {
      "provenance": [],
      "authorship_tag": "ABX9TyPdYJ0wxwmgBEvZ+4uGjvDx",
      "include_colab_link": true
    },
    "kernelspec": {
      "name": "python3",
      "display_name": "Python 3"
    },
    "language_info": {
      "name": "python"
    }
  },
  "cells": [
    {
      "cell_type": "markdown",
      "metadata": {
        "id": "view-in-github",
        "colab_type": "text"
      },
      "source": [
        "<a href=\"https://colab.research.google.com/github/JennyferSRodriguezH/Metodos--Numericos/blob/main/Epidemia.ipynb\" target=\"_parent\"><img src=\"https://colab.research.google.com/assets/colab-badge.svg\" alt=\"Open In Colab\"/></a>"
      ]
    },
    {
      "cell_type": "markdown",
      "source": [
        "**Problema**\n",
        "\n"
      ],
      "metadata": {
        "id": "TEDOTGpYK9pa"
      }
    },
    {
      "cell_type": "markdown",
      "source": [
        "Considere la tabla 1 que muestra los datos de una epidemia de influenza en un colegio ingles.\n",
        "\n",
        "\n",
        "1.   Trazar una grafica con estos datos\n",
        "2.   Usar los splines cubicos para trazar una curva suave sobre los mismos datos\n",
        "\n",
        "\n",
        "       \n",
        "\n",
        "\n",
        "```\n",
        "#*t*      0   1   2  3   4   5   6   7   8   9   10  11  12  13   14\n",
        "*I(t)*     1   3  6  25  73  222 294 258 237 191  125 69  27  11   4\n",
        "```\n",
        "\n"
      ],
      "metadata": {
        "id": "Xm68-qkBK-72"
      }
    },
    {
      "cell_type": "markdown",
      "source": [
        "Usando el metdo del **Spline cubico**, podemoso btener la grafica en la cual nos representa  la relacion de los dias y los contagios que se presentaron."
      ],
      "metadata": {
        "id": "3887gzWyNlnv"
      }
    },
    {
      "cell_type": "code",
      "source": [
        "# Spline cúbico natural\n",
        "import numpy as np\n",
        "import sympy as sym\n",
        "import math\n",
        "import matplotlib.pyplot as plt\n",
        "\n",
        "\n",
        "def SCNatural(xi,yi):\n",
        "    n = len(xi)\n",
        "\n",
        "    #Buscamos el valor de h\n",
        "    h = np.zeros(n-1, dtype = float)#la iniciamos como un array de n-1 dimensiones\n",
        "    for j in range(0,n-1,1):\n",
        "        h[j] = xi[j+1] - xi[j]\n",
        "\n",
        "#Iniciamos el sistema de ecuaciones que convertiremos en una matriz\n",
        "    A = np.zeros(shape=(n-2,n-2), dtype = float)\n",
        "    B = np.zeros(n-2, dtype = float)\n",
        "    S = np.zeros(n, dtype = float)\n",
        "\n",
        "#Debido a que se tiene que apicar las condiciones de continuidad de S, S' Y S'', dividiremos y multiplicaremos en la formula por el valor 6\n",
        "    #Comenzamos a definir las posiciones de la matris con respecto a las formulas del metodo\n",
        "    A[0,0] = 2*(h[0]+h[1])\n",
        "    A[0,1] = h[1]\n",
        "    B[0] = 6*((yi[2]-yi[1])/h[1] - (yi[1]-yi[0])/h[0])\n",
        "\n",
        "    for i in range(1,n-3,1): #con un ciclo vamos ingresando nuevos valores en las posiciones indicadas\n",
        "        A[i,i-1] = h[i]\n",
        "        A[i,i] = 2*(h[i]+h[i+1])\n",
        "        A[i,i+1] = h[i+1]\n",
        "        factor21 = (yi[i+2]-yi[i+1])/h[i+1]\n",
        "        factor10 = (yi[i+1]-yi[i])/h[i]\n",
        "        B[i] = 6*(factor21 - factor10)\n",
        "\n",
        "    A[n-3,n-4] = h[n-3]\n",
        "    A[n-3,n-3] = 2*(h[n-3]+h[n-2])\n",
        "    factor12 = (yi[n-1]-yi[n-2])/h[n-2]\n",
        "    factor23 = (yi[n-2]-yi[n-3])/h[n-3]\n",
        "    B[n-3] = 6*(factor12 - factor23)\n",
        "\n",
        "    # Resolvemos el sistema de ecuaciones de S\n",
        "    r = np.linalg.solve(A,B)\n",
        "    #np.linalg.solve nos sirve para resolver una ecuacion matricial, en\n",
        "    #este caso, se resolveria en A yB, de acuerdo a lo que obtuvimos\n",
        "    for j in range(1,n-1,1):\n",
        "        S[j] = r[j-1]\n",
        "    S[0] = 0\n",
        "    S[n-1] = 0\n",
        "\n",
        "    #Para obtener los coeficientes\n",
        "    #rellenamos las listas con valores ceros de tipo float\n",
        "    a = np.zeros(n-1, dtype = float)\n",
        "    b = np.zeros(n-1, dtype = float)\n",
        "    c = np.zeros(n-1, dtype = float)\n",
        "    d = np.zeros(n-1, dtype = float)\n",
        "    #Comenzamos a juntar lo anterior de acuerdo a la fromula\n",
        "    for j in range(0,n-1,1): #usamos un rango menor al de la lista de x, iniciada en 0\n",
        "        a[j] = (S[j+1]-S[j])/(6*h[j])\n",
        "        b[j] = S[j]/2\n",
        "        factor10 = (yi[j+1]-yi[j])/h[j]\n",
        "        c[j] = factor10 - (2*h[j]*S[j]+h[j]*S[j+1])/6\n",
        "        d[j] = yi[j]\n",
        "\n",
        "    # Traza\n",
        "    #Imprimios todos los polinomios de cada parte\n",
        "    x = sym.Symbol('x') #usamos a x como variable para poder trabajar con ella\n",
        "    px_tabla = [] #esto nos ayudara a guardar el polinomio terminando el ciclo\n",
        "    for j in range(0,n-1,1):\n",
        "        pxtramo = a[j]*(x-xi[j])**3 + b[j]*(x-xi[j])**2\n",
        "        pxtramo = pxtramo + c[j]*(x-xi[j])+ d[j]\n",
        "\n",
        "        pxtramo = pxtramo.expand()\n",
        "        px_tabla.append(pxtramo)#agregamos el polinomio de tramo en la lista vacia\n",
        "\n",
        "    return(px_tabla)\n",
        "\n",
        "# Ingresamos los datos\n",
        "xi = np.array([0,1 ,  2,  3,   4,   5,   6,   7,   8,   9,   10,  11,  12,  13,   14])\n",
        "fi=np.array([1,   3,  6,  25 , 73 , 222, 294, 258, 237, 191,  125, 69,  27 , 11 ,  4])\n",
        "muestras = 10 # entre cada par de puntos\n",
        "\n",
        "\n",
        "# Creamos la tabla de polinomios por tramos\n",
        "n = len(xi)\n",
        "px_tabla = SCNatural(xi,fi)\n",
        "\n",
        "print('Polinomios por tramos: ')\n",
        "for tramo in range(1,n,1):\n",
        "    print(' x = ['+str(xi[tramo-1])\n",
        "          +','+str(xi[tramo])+']')\n",
        "    print(str(px_tabla[tramo-1]))\n",
        "\n",
        "\n",
        "# GRAFICA\n",
        "# Puntos para graficar cada tramo\n",
        "xtraza = np.array([])\n",
        "ytraza = np.array([])\n",
        "tramo = 1\n",
        "while not(tramo>=n):\n",
        "    a = xi[tramo-1]\n",
        "    b = xi[tramo]\n",
        "    xtramo = np.linspace(a,b,muestras)\n",
        "\n",
        "    # evalua polinomio del tramo\n",
        "    pxtramo = px_tabla[tramo-1]\n",
        "    pxt = sym.lambdify('x',pxtramo)\n",
        "    ytramo = pxt(xtramo)\n",
        "\n",
        "    # vectores de trazador en x,y\n",
        "    xtraza = np.concatenate((xtraza,xtramo))\n",
        "    ytraza = np.concatenate((ytraza,ytramo))\n",
        "    tramo = tramo + 1\n",
        "print('\\n\\n')\n",
        "\n",
        "# Gráfica\n",
        "plt.plot(xi,fi,'ro', label='puntos')\n",
        "plt.plot(xtraza,ytraza, label='trazador'\n",
        "         , color='blue')\n",
        "plt.title('Trazadores Cúbicos Naturales')\n",
        "plt.xlabel('Dias')\n",
        "plt.ylabel('Numero de Contagios')\n",
        "plt.legend()\n",
        "plt.show()"
      ],
      "metadata": {
        "colab": {
          "base_uri": "https://localhost:8080/",
          "height": 1000
        },
        "id": "kBcQif6yExt0",
        "outputId": "6bf41dd7-f818-4570-d41d-0690dffb8922"
      },
      "execution_count": 8,
      "outputs": [
        {
          "output_type": "stream",
          "name": "stdout",
          "text": [
            "Polinomios por tramos: \n",
            " x = [0,1]\n",
            "-0.907921961194125*x**3 + 2.90792196119412*x + 1.0\n",
            " x = [1,2]\n",
            "5.53960980597062*x**3 - 19.3425953014942*x**2 + 22.2505172626884*x - 5.44753176716475\n",
            " x = [2,3]\n",
            "-6.25051726268837*x**3 + 51.3981671104597*x**2 - 119.23100756122*x + 88.8734847821072\n",
            " x = [3,4]\n",
            "32.4624592447828*x**3 - 297.018621456781*x**2 + 926.019358140503*x - 956.376880919615\n",
            " x = [4,5]\n",
            "-51.599319716443*x**3 + 711.722726077929*x**2 - 3108.94603199834*x + 4423.57697259884\n",
            " x = [5,6]\n",
            "-4.06518037901074*x**3 - 1.28936398355498*x**2 + 456.114418309082*x - 1518.19044458019\n",
            " x = [6,7]\n",
            "36.860041232486*x**3 - 737.943352990496*x**2 + 4876.03835235073*x - 10358.0383126635\n",
            " x = [7,8]\n",
            "-20.3749845509333*x**3 + 463.992188461308*x**2 - 3537.5104378119*x + 9273.57553104932\n",
            " x = [8,9]\n",
            "4.63989697124709*x**3 - 136.36496807102*x**2 + 1265.34681444673*x - 3534.04380830703\n",
            " x = [9,10]\n",
            "6.81539666594491*x**3 - 195.103459827862*x**2 + 1793.9932402583*x - 5119.98308574174\n",
            " x = [10,11]\n",
            "-1.90148363502675*x**3 + 66.4029492012884*x**2 - 821.070850033201*x + 3596.89721522992\n",
            " x = [11,12]\n",
            "4.79053787416209*x**3 - 154.433760601943*x**2 + 1608.13295780235*x - 5310.18341350042\n",
            " x = [12,13]\n",
            "-5.2606678616216*x**3 + 207.409645886269*x**2 - 2733.98792005621*x + 12058.3000979338\n",
            " x = [13,14]\n",
            "-0.74786642767568*x**3 + 31.4103899623786*x**2 - 445.997593045624*x + 2143.67534755461\n",
            "\n",
            "\n",
            "\n"
          ]
        },
        {
          "output_type": "display_data",
          "data": {
            "text/plain": [
              "<Figure size 640x480 with 1 Axes>"
            ],
            "image/png": "[encoded data removed]"
          },
          "metadata": {}
        }
      ]
    }
  ]
}