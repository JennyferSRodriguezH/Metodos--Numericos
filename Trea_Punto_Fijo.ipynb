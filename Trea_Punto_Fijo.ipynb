{
  "nbformat": 4,
  "nbformat_minor": 0,
  "metadata": {
    "colab": {
      "provenance": [],
      "authorship_tag": "ABX9TyN+70pbDBiY+Nyr/oEcNzrk",
      "include_colab_link": true
    },
    "kernelspec": {
      "name": "python3",
      "display_name": "Python 3"
    },
    "language_info": {
      "name": "python"
    }
  },
  "cells": [
    {
      "cell_type": "markdown",
      "metadata": {
        "id": "view-in-github",
        "colab_type": "text"
      },
      "source": [
        "<a href=\"https://colab.research.google.com/github/JennyferSRodriguezH/Metodos--Numericos/blob/main/Trea_Punto_Fijo.ipynb\" target=\"_parent\"><img src=\"https://colab.research.google.com/assets/colab-badge.svg\" alt=\"Open In Colab\"/></a>"
      ]
    },
    {
      "cell_type": "markdown",
      "source": [
        "# *Referencia del Metodo de Biseccion*"
      ],
      "metadata": {
        "id": "EPtKNjdmEihO"
      }
    },
    {
      "cell_type": "code",
      "source": [
        "from math import *\n",
        "import numpy as np\n",
        "import matplotlib . pyplot as plt\n",
        "def funcion1(x):\n",
        "    return x**2-3\n",
        "# Ingreso datos de entrada para los diferentes métodos a trabajar\n",
        "a = 1\n",
        "b = 2\n",
        "\n",
        "# guarda valores iniciales\n",
        "a0 = a\n",
        "b0 = b\n",
        "\n",
        "#guarda valores iniciales del error y del número de iteraciones\n",
        "tol = 0.0001 #float(input(\"Ingrese el valor de la tolerancia: \"))\n",
        "nmax = 100 #float(input(\"Ingrese el número máximo de iteraciones: \"))\n",
        "error = 100\n",
        "niter = 0\n",
        "# Método de Bisección\n",
        "\n",
        "# evaluo primer valor medio\n",
        "m = a + (b - a)/2\n",
        "\n",
        "#Evaluacion de la función en los puntos a, b y m\n",
        "fa = funcion1(a)\n",
        "fb = funcion1(b)\n",
        "fm = funcion1(m)\n",
        "\n",
        "print(\"# iter\\t\\t a \\t\\t f(a) \\t\\t b \\t\\t f(b) \\t\\t m \\t\\t f(m) \\t\\t error\")\n",
        "print(\"{0} \\t\\t {1:6.4f} \\t {2:6.4f} \\t {3:6.4f} \\t {4:6.4f} \\t {5:6.4f} \\t {6:6.4f} \\t {7:6.4f}\".format(niter, a0, fa, b0, fb, m, fm, error ))\n",
        "\n",
        "# ciclo iterativo\n",
        "while error > tol and niter < nmax:\n",
        "    m = a + (b - a) / 2\n",
        "    if np.sign(fa) == np.sign(fm):\n",
        "        a = m\n",
        "        fa = funcion1(a)\n",
        "    else:\n",
        "        b = m\n",
        "        fb = funcion1(b)\n",
        "    \n",
        "    m = a + (b - a)/2\n",
        "    fm = funcion1(m)\n",
        "    error = abs(b - a)\n",
        "    niter += 1\n",
        "    print(\"{0} \\t\\t {1:6.6f} \\t {2:6.6f} \\t {3:6.6f} \\t {4:6.6f} \\t {5:6.6f} \\t {6:6.6f} \\t {7:6.6f}\".format(niter, a, fa, b, fb, m, fm, error ))\n",
        "\n",
        "print(\"La raíz de la función dada en el intervalo [{0:6.4f},{1:6.4f}] es {2:6.7f}\".format(a0,b0,m))"
      ],
      "metadata": {
        "colab": {
          "base_uri": "https://localhost:8080/"
        },
        "id": "-gg6xheSS6Il",
        "outputId": "5e4eaca8-72b6-450f-857b-83bba98c3f11"
      },
      "execution_count": null,
      "outputs": [
        {
          "output_type": "stream",
          "name": "stdout",
          "text": [
            "# iter\t\t a \t\t f(a) \t\t b \t\t f(b) \t\t m \t\t f(m) \t\t error\n",
            "0 \t\t 1.0000 \t -2.0000 \t 2.0000 \t 1.0000 \t 1.5000 \t -0.7500 \t 100.0000\n",
            "1 \t\t 1.500000 \t -0.750000 \t 2.000000 \t 1.000000 \t 1.750000 \t 0.062500 \t 0.500000\n",
            "2 \t\t 1.500000 \t -0.750000 \t 1.750000 \t 0.062500 \t 1.625000 \t -0.359375 \t 0.250000\n",
            "3 \t\t 1.625000 \t -0.359375 \t 1.750000 \t 0.062500 \t 1.687500 \t -0.152344 \t 0.125000\n",
            "4 \t\t 1.687500 \t -0.152344 \t 1.750000 \t 0.062500 \t 1.718750 \t -0.045898 \t 0.062500\n",
            "5 \t\t 1.718750 \t -0.045898 \t 1.750000 \t 0.062500 \t 1.734375 \t 0.008057 \t 0.031250\n",
            "6 \t\t 1.718750 \t -0.045898 \t 1.734375 \t 0.008057 \t 1.726562 \t -0.018982 \t 0.015625\n",
            "7 \t\t 1.726562 \t -0.018982 \t 1.734375 \t 0.008057 \t 1.730469 \t -0.005478 \t 0.007812\n",
            "8 \t\t 1.730469 \t -0.005478 \t 1.734375 \t 0.008057 \t 1.732422 \t 0.001286 \t 0.003906\n",
            "9 \t\t 1.730469 \t -0.005478 \t 1.732422 \t 0.001286 \t 1.731445 \t -0.002097 \t 0.001953\n",
            "10 \t\t 1.731445 \t -0.002097 \t 1.732422 \t 0.001286 \t 1.731934 \t -0.000406 \t 0.000977\n",
            "11 \t\t 1.731934 \t -0.000406 \t 1.732422 \t 0.001286 \t 1.732178 \t 0.000440 \t 0.000488\n",
            "12 \t\t 1.731934 \t -0.000406 \t 1.732178 \t 0.000440 \t 1.732056 \t 0.000017 \t 0.000244\n",
            "13 \t\t 1.731934 \t -0.000406 \t 1.732056 \t 0.000017 \t 1.731995 \t -0.000195 \t 0.000122\n",
            "14 \t\t 1.731995 \t -0.000195 \t 1.732056 \t 0.000017 \t 1.732025 \t -0.000089 \t 0.000061\n",
            "La raíz de la función dada en el intervalo [1.0000,2.0000] es 1.7320251\n"
          ]
        }
      ]
    },
    {
      "cell_type": "markdown",
      "source": [
        "### CODIGOS DE PUNTO FIJO: "
      ],
      "metadata": {
        "id": "6M7QwOVmE5ri"
      }
    },
    {
      "cell_type": "code",
      "source": [],
      "metadata": {
        "id": "g1ywYYwZE3TW"
      },
      "execution_count": null,
      "outputs": []
    },
    {
      "cell_type": "code",
      "source": [
        "# Algoritmo de punto fijo\n",
        "# [a,b] intervalo de búsqueda\n",
        "# error = tolera\n",
        "\n",
        "import numpy as np\n",
        "\n",
        "def puntofijo(gx,a,tolera, iteramax = 15):\n",
        "    i = 1 # iteración\n",
        "    b = gx(a)\n",
        "    tramo = abs(b-a)\n",
        "    while(tramo>=tolera and i<=iteramax ):\n",
        "        a = b\n",
        "        b = gx(a)\n",
        "        tramo = abs(b-a)\n",
        "        i = i + 1\n",
        "    respuesta = b\n",
        "    \n",
        "    # Validar respuesta\n",
        "    if (i>=iteramax ):\n",
        "        respuesta = np.nan\n",
        "    return(respuesta)\n",
        "\n",
        "# PROGRAMA ---------\n",
        "\n",
        "# INGRESO\n",
        "fx = lambda x: 2**(-x)-x\n",
        "gx = lambda x: 2**(-x)\n",
        "\n",
        "a = 1/3      # intervalo\n",
        "b = 1\n",
        "tolera = 0.0001\n",
        "iteramax = 15  # itera máximo\n",
        "muestras = 51  # gráfico\n",
        "tramos = 50\n",
        "\n",
        "# PROCEDIMIENTO\n",
        "respuesta = puntofijo(gx,a,tolera)\n",
        "\n",
        "#print(\"# iter\\t\\t a \\t\\t f(a) \\t\\t b \\t\\t f(b) \\t\\t m \\t\\t f(m) \\t\\t error\")\n",
        "\n",
        "# SALIDA\n",
        "print(respuesta)"
      ],
      "metadata": {
        "id": "H4xVzswcVnXS",
        "colab": {
          "base_uri": "https://localhost:8080/"
        },
        "outputId": "67120d63-c467-423c-a62b-1d05e10e11c6"
      },
      "execution_count": 3,
      "outputs": [
        {
          "output_type": "stream",
          "name": "stdout",
          "text": [
            "0.6411661053686456\n"
          ]
        }
      ]
    },
    {
      "cell_type": "code",
      "source": [
        "#ESTE SOLO ACEPTA FUNCIONES DE 1 ORDEN (x+n)Y COSENO\n",
        "#REVISAR Y CORREGIR\n",
        "\n",
        "\n",
        "from math import *\n",
        "import sympy as sp\n",
        "\n",
        "def puntofijo():\n",
        "  x= sp.symbols('x') # marcamos a x como una variable\n",
        "  g= input(\"Ingrese su funcion: \\t\")\n",
        "  g=sp.lambdify(x,g) #asignamos los valores a las variables\n",
        "  x0=input(\"Digite el valor inicial: \\t\")\n",
        "  x0=float(x0)\n",
        "  n=input(\"Digite el numero de iteraciones: \\t\")\n",
        "  n=int(n)\n",
        "  tol=input(\"Ingrese el error maximo: \\t\")\n",
        "  tol=float(tol)\n",
        "\n",
        "  print(\"\\n\\n\\nIntervalo \\t    P\\n\")\n",
        "\n",
        "  for k in range(n): #empezamos de acuerdo a las iteraciones\n",
        "    x1=g(x0) #evaluamos x0 en la funcion g y luego lo agregamos a x1\n",
        "    if(abs(x1-x0)<tol): #si la resta es menor que el error\n",
        "      #print(\"X\\t\\t{2:6.6}\\t = \\{2:6.6}es un punto fijo \").format(k+1, x1)\n",
        "      print( k+1, '\\t\\t', x1, 'es un punto fijo')\n",
        "      return\n",
        "    x0=x1 #para seguir iterando aun cuando no se encuentre el PF\n",
        "    print(k+1,'\\t\\t', x1)\n",
        "    #print(\"X\\t\\t{2:6.6}\\t = \\{2:6.6}\").format(k+1, x1)\n",
        "\n",
        "puntofijo()"
      ],
      "metadata": {
        "colab": {
          "base_uri": "https://localhost:8080/"
        },
        "id": "WiZkBgp_fWai",
        "outputId": "34bc30c9-73d6-47ee-e52f-1b87279dd353"
      },
      "execution_count": 5,
      "outputs": [
        {
          "output_type": "stream",
          "name": "stdout",
          "text": [
            "Ingrese su funcion: \tx+2\n",
            "Digite el valor inicial: \t23\n",
            "Digite el numero de iteraciones: \t23\n",
            "Ingrese el error maximo: \t0.000002\n",
            "\n",
            "\n",
            "\n",
            "Intervalo \t    P\n",
            "\n",
            "1 \t\t 25.0\n",
            "2 \t\t 27.0\n",
            "3 \t\t 29.0\n",
            "4 \t\t 31.0\n",
            "5 \t\t 33.0\n",
            "6 \t\t 35.0\n",
            "7 \t\t 37.0\n",
            "8 \t\t 39.0\n",
            "9 \t\t 41.0\n",
            "10 \t\t 43.0\n",
            "11 \t\t 45.0\n",
            "12 \t\t 47.0\n",
            "13 \t\t 49.0\n",
            "14 \t\t 51.0\n",
            "15 \t\t 53.0\n",
            "16 \t\t 55.0\n",
            "17 \t\t 57.0\n",
            "18 \t\t 59.0\n",
            "19 \t\t 61.0\n",
            "20 \t\t 63.0\n",
            "21 \t\t 65.0\n",
            "22 \t\t 67.0\n",
            "23 \t\t 69.0\n"
          ]
        }
      ]
    }
  ]
}