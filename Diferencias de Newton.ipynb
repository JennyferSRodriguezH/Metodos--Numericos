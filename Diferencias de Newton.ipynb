{
  "metadata": {
    "language_info": {
      "codemirror_mode": {
        "name": "python",
        "version": 3
      },
      "file_extension": ".py",
      "mimetype": "text/x-python",
      "name": "python",
      "nbconvert_exporter": "python",
      "pygments_lexer": "ipython3",
      "version": "3.8"
    },
    "kernelspec": {
      "name": "python",
      "display_name": "Python (Pyodide)",
      "language": "python"
    }
  },
  "nbformat_minor": 4,
  "nbformat": 4,
  "cells": [
    {
      "cell_type": "code",
      "source": "#Diferencias Divididas\n\nfrom sympy import * #calculo simbolico para x\nimport numpy as np \n\nx= symbols('x')  #definimos a x como una variable simbolica\n\n#Datos\nxi=[1.0,1.3,1.6,1.9,2.2]\nfx=[0.7651977, 0.6200860, 0.4554022, 0.2812186, 0.1103623]\n\n#Creamos una matriz para poder manejar los valores de xi y fx\na=[]\nfor g in range(len(xi)+1): \n  aux=[] #creamos lista vacias\n  for e in range(len(xi)):\n    aux.append(0) #y la llenamos de 0\n  a.append(aux)\nfor s in range(len(xi)): #empezamos a rellenar dicha matriz con los vlores de xi y fx\n  a[0][s]=(xi[s])\n  a[1][s]=(fx[s])\n\n#Nos ayudan para calcular los indices\nb=1\nc=1\nd=1\n\n#En este ciclo comenzamos a obtener los valores de la tabla guardandolos en la tabla anterior\nfor i in range(len(a[0])): \n  for j in range(len(a[0])-b):\n    a[c+1][j] = (a[c][j+1]-a[c][j])/(a[0][j+d]-a[0][j])#formula del polinomio\n  b+=1\n  c+=1\n  d+=1\n\nprint(\"Los valores de la diagonal son: \\n\")\nfor l in range(len(a[0])):\n  print(\"x[\",l,\"]=\", a[l+1][0])\n\n\n\n#Comenzamos a imprimir la tabla\nprint(\"\\n\")\nmatriz=np.array(a)\nmatrz_t=np.transpose(matriz)\nprint(matrz_t)\n\n#obtenemos el polinomio\np=0\nw=0\nfor t in range(len(a[0])): #t toma los valores de la longitud de la lista a\n  terminos=1\n  for r in range(w):#r queda en 0, esto nos sirve para poder agregar los demas terminos\n    terminos *=(x-a[0][r]) #se va restando la variable x con respecto a la lista a\n  w+=1 \n  p += a[t+1][0]*terminos #cada polinomio se va sumando y guardando en p\n  pol=simplify(p) #lo simplificamos\nprint(\"\\nEl polinomio es:\")\nprint(pol)",
      "metadata": {
        "trusted": true
      },
      "execution_count": 4,
      "outputs": [
        {
          "name": "stdout",
          "text": "Los valores de la diagonal son: \n\nx[ 0 ]= 0.7651977\nx[ 1 ]= -0.4837056666666664\nx[ 2 ]= -0.10873388888888935\nx[ 3 ]= 0.062174691358024635\nx[ 4 ]= 0.014170781893005939\n\n\n[[ 1.          0.7651977  -0.48370567 -0.10873389  0.06217469  0.01417078]\n [ 1.3         0.620086   -0.548946   -0.05277667  0.07917963  0.        ]\n [ 1.6         0.4554022  -0.580612    0.018485    0.          0.        ]\n [ 1.9         0.2812186  -0.569521    0.          0.          0.        ]\n [ 2.2         0.1103623   0.          0.          0.          0.        ]]\n\nEl polinomio es:\n0.0141707818930059*x**4 - 0.0200158436214098*x**3 - 0.175639197530842*x**2 - 0.0875469238683328*x + 1.03422888312758\n",
          "output_type": "stream"
        }
      ]
    },
    {
      "cell_type": "code",
      "source": "",
      "metadata": {},
      "execution_count": null,
      "outputs": []
    }
  ]
}