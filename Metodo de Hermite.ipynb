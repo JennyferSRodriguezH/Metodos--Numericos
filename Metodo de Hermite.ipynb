{
  "metadata": {
    "language_info": {
      "codemirror_mode": {
        "name": "python",
        "version": 3
      },
      "file_extension": ".py",
      "mimetype": "text/x-python",
      "name": "python",
      "nbconvert_exporter": "python",
      "pygments_lexer": "ipython3",
      "version": "3.8"
    },
    "kernelspec": {
      "name": "python",
      "display_name": "Python (Pyodide)",
      "language": "python"
    }
  },
  "nbformat_minor": 4,
  "nbformat": 4,
  "cells": [
    {
      "cell_type": "code",
      "source": "import numpy as np\nfrom sympy import Symbol, expand, pprint, lambdify\n\nx=Symbol('x') #ponemos a x de manera simbolica\n\ndef diferencia(x,y,yp):\n  n=len(x)\n  z=np.empty(shape=2*n, dtype=float)\n  Q=np.empty(shape=(2*n, 2*n), dtype=float)\n  d=np.empty(shape=2*n, dtype=float)\n  #hacemos referencia a un array vacio para poder usarlas\n  #shape devuelve una tupla con las dimensiones del array\n  for i in np.arange(n): #comenamos a inicializar los valores de los subindices\n    z[2+i]=x[i]\n    z[2+i+1]=x[i]\n    Q[2+i][0]=y[i]\n    Q[2+i +1][0]=y[i]\n    Q[2+i +1][1]=yp[i]\n    if i != 0:\n      Q[2*i][1]=(Q[2*i][0] - Q[2*i -1][0])/(z[2*i] - z[2*i -1]) #FORMULA\n\n    for i in np.arange(2,2+(n-1)+2):#comenzamos a calcular tanto num como denom\n      for j in np.arange(2,i+1):#todo por separado y de maera ciclica\n       f=Q[i][j-1]-Q[i-1][j-1]\n       g=z[i]-z[i-j]\n       Q[i][j]=f/g #creamos una matriz con los valores que se guardaron en f y g\n       #aqui juntamos ambas y las dividimos entre si\n  d=Q.diagonal() #pero lo unico que buscamos es la diagonal\n  #con este separamos la diagonal de lo demas e imprimimos\n  return z,d\n\n\ndef polhermitesym(diff,z): #pasamos las diferencias y podemos crear el polinomio de H\n  n=len(z)-1\n  pol=diff[n]\n  for k in np.arange(1,n+1):\n    pol=diff[n-k]+(x-z[n-k])*pol\n  return pol\n#DATOS\ndatos_x=np.array([1.3,1.6,1.9], dtype=float)\ndatos_y=np.array([0.6200850, 0.4554022, 0.2818186], dtype=float) \ndatos_yp=[-0.522032, -0.5698959, -0.5811571] #derivada\n\nd = diferencia(datos_x, datos_y, datos_yp) #pasamos los datos a la funcion\ndiff=d[1] #seleccionamos la 1 fila de la matriz\npolhermitesym=polhermitesym(diff, d[0])#calculamos ya el polinomio de H, uniendo ambas funciones\n#usamos pprint para visualizarlo en formato latex\npprint(\"El polinomio de hermite es: \\n\")\npprint(expand(polhermitesym)) #alargamos la expresion matematica para todo el polinomio\nprint(\"\\n\")\npprint('El valor aproximado de x={0} es: H({0})={1}'.format(1.5, polhermitesym.subs(x,1.5)))\n#tomamos a 1.5 como el punto que queremos aproximar\n#aqui podemos usar la simbologia de x para calcularlo mas facil \n\n",
      "metadata": {
        "trusted": true
      },
      "execution_count": 6,
      "outputs": [
        {
          "name": "stdout",
          "text": "El polinomio de hermite es: \n                       5                       4                      3       \n1.87632719782976e-183⋅x  - 0.0715612371854045⋅x  + 0.622487511364435⋅x  - 1.97\n\n              2                                             \n661894003479⋅x  + 2.15180922747413⋅x + 6.09507686910189e-288\n\n\nEl valor aproximado de x=1.5 es: H(1.5)=0.518937813736771\n",
          "output_type": "stream"
        }
      ]
    },
    {
      "cell_type": "code",
      "source": "",
      "metadata": {},
      "execution_count": null,
      "outputs": []
    }
  ]
}