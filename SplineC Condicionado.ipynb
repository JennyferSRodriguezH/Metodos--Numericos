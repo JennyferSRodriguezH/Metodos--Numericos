{
  "metadata": {
    "language_info": {
      "name": ""
    },
    "kernelspec": {
      "name": "python",
      "display_name": "Python (Pyodide)",
      "language": "python"
    }
  },
  "nbformat_minor": 4,
  "nbformat": 4,
  "cells": [
    {
      "cell_type": "code",
      "source": "import numpy as np\nimport sympy as sym\n\ndef CubicCon(xi, yi, yprima_x0, yprima_xn):\n#Inicializamos las listas en ceros de las cuales iremos agregando las formulas con los valores\n  m=xi.size\n  n=m-1\n  A=np.zeros(m)\n  B=np.zeros(n)\n  C=np.zeros(m)\n  D=np.zeros(n)\n  for i in range(m):\n    A[i]=yi[i]\n    #Buscamos a h\n  h=np.zeros(n)\n  for i in range(n):\n    h[i]=xi[i+1]-xi[i]\n  #Comenzamos a reslver el sistema triangular inferior de la matriz \n  u=np.zeros(m)\n  u[0]=3*(A[1]-A[0])/h[0]-3*yprima_x0\n  u[m-1]=3*yprima_xn-3*(A[n-1]-A[m-2])/h[m-2]\n  for i in range(1,n):\n    u[i]=3*(A[i+1]-A[i])/h[i]-3*(A[i]-A[i-1])/h[i-1]\n\n  s=np.zeros(m)\n  z=np.zeros(m)\n  t=np.zeros(n)\n  s[0]=2*h[0]\n  t[0]=0.5\n  z[0]=u[0]/s[0]\n  for i in range(1,n):\n    s[i]=2*(xi[i+1]-xi[i-1])-h[i-1]*t[i-1]\n    t[i]=h[i]/s[i]\n    z[i]=(u[i]-h[i-1]*z[i-1])/s[i]\n  s[m-1]=h[m-2]*(2-t[n-2])\n  z[m-1]=(u[n-1]-h[m-2]*z[n-2])/s[n-1]\n  C[m-1]=z[m-1]\n  #Se termina de calcular el triangulo inferior\n\n  for i in np.flip(np.arange(n)):\n    C[i]=z[i]-t[i]*C[i+1]\n    B[i]=(A[i+1]-A[i])/h[i]-h[i]*(C[i+1]+2*C[i])/3\n    D[i]=(C[i+1]-C[i])/(3*h[i])\n\n  #Empezamos a imprimir y a guardar los polinomios\n  x=sym.Symbol('x')\n  px_tabla=[] #aqui guardamos los polinomios\n  for j in range(0,n,1):\n    pxtramo=D[j]*(x-xi[j])**3+C[j]*(x-xi[j])**2\n    pxtramo=pxtramo+B[j]*(x-xi[j])+A[j] #los vamos agrupando para que podamos\n    #ingresarlas a la lista vacia\n\n    px_tabla.append(pxtramo)\n  return A,B,C,D,px_tabla\n\n\nxi = np.array([0,1,2,3])\nfi=np.array([1, 2.718281828459045,7.38905609893065, 20.085536923187668]) #Ingresamos los valores de e, e^2 y e^3\n#fi = np.array([1,math.exp, math.exp(2), math.exp(3)])\nmuestras = 10 # entre cada par de puntos\n\n\n# Creamos la tabla de polinomios por tramos\nn = len(xi)\npx_tabla =CubicCon(xi,fi, 1,1)\nprint(\"Polinomio por tramos:\")\nfor tramo in range(1,n,1):\n  print('x = ['+str[xi(tramo-1)]+','+str(xi[tramo])+'j')\n  print(str(px_tabla[tramo-1]))\n\n",
      "metadata": {},
      "execution_count": null,
      "outputs": []
    }
  ]
}