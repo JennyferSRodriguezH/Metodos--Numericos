{
  "metadata": {
    "kernelspec": {
      "name": "python",
      "display_name": "Python (Pyodide)",
      "language": "python"
    },
    "language_info": {
      "codemirror_mode": {
        "name": "python",
        "version": 3
      },
      "file_extension": ".py",
      "mimetype": "text/x-python",
      "name": "python",
      "nbconvert_exporter": "python",
      "pygments_lexer": "ipython3",
      "version": "3.8"
    }
  },
  "nbformat_minor": 5,
  "nbformat": 4,
  "cells": [
    {
      "cell_type": "code",
      "source": "# Spline cúbico natural\nimport numpy as np\nimport sympy as sym\nimport math\n\n\ndef SCNatural(xi,yi):\n    n = len(xi)\n\n    #Buscamos el valor de h\n    h = np.zeros(n-1, dtype = float)#la iniciamos como un array de n-1 dimensiones\n    for j in range(0,n-1,1):\n        h[j] = xi[j+1] - xi[j]\n\n#Iniciamos el sistema de ecuaciones que convertiremos en una matriz\n    A = np.zeros(shape=(n-2,n-2), dtype = float)\n    B = np.zeros(n-2, dtype = float)\n    S = np.zeros(n, dtype = float)\n\n#Debido a que se tiene que apicar las condiciones de continuidad de S, S' Y S'', dividiremos y multiplicaremos en la formula por el valor 6\n    #Comenzamos a definir las posiciones de la matris con respecto a las formulas del metodo\n    A[0,0] = 2*(h[0]+h[1])\n    A[0,1] = h[1]\n    B[0] = 6*((yi[2]-yi[1])/h[1] - (yi[1]-yi[0])/h[0])\n\n    for i in range(1,n-3,1): #con un ciclo vamos ingresando nuevos valores en las posiciones indicadas\n        A[i,i-1] = h[i]\n        A[i,i] = 2*(h[i]+h[i+1])\n        A[i,i+1] = h[i+1]\n        factor21 = (yi[i+2]-yi[i+1])/h[i+1]\n        factor10 = (yi[i+1]-yi[i])/h[i]\n        B[i] = 6*(factor21 - factor10)\n\n    A[n-3,n-4] = h[n-3]\n    A[n-3,n-3] = 2*(h[n-3]+h[n-2])\n    factor12 = (yi[n-1]-yi[n-2])/h[n-2]\n    factor23 = (yi[n-2]-yi[n-3])/h[n-3]\n    B[n-3] = 6*(factor12 - factor23)\n\n    # Resolvemos el sistema de ecuaciones de S\n    r = np.linalg.solve(A,B)\n    #np.linalg.solve nos sirve para resolver una ecuacion matricial, en\n    #este caso, se resolveria en A yB, de acuerdo a lo que obtuvimos\n    for j in range(1,n-1,1):\n        S[j] = r[j-1]\n    S[0] = 0\n    S[n-1] = 0\n\n    #Para obtener los coeficientes\n    #rellenamos las listas con valores ceros de tipo float\n    a = np.zeros(n-1, dtype = float)\n    b = np.zeros(n-1, dtype = float)\n    c = np.zeros(n-1, dtype = float)\n    d = np.zeros(n-1, dtype = float)\n    #Comenzamos a juntar lo anterior de acuerdo a la fromula\n    for j in range(0,n-1,1): #usamos un rango menor al de la lista de x, iniciada en 0\n        a[j] = (S[j+1]-S[j])/(6*h[j])\n        b[j] = S[j]/2\n        factor10 = (yi[j+1]-yi[j])/h[j]\n        c[j] = factor10 - (2*h[j]*S[j]+h[j]*S[j+1])/6\n        d[j] = yi[j]\n\n    # Traza\n    #Imprimios todos los polinomios de cada parte \n    x = sym.Symbol('x') #usamos a x como variable para poder trabajar con ella\n    px_tabla = [] #esto nos ayudara a guardar el polinomio terminando el ciclo\n    for j in range(0,n-1,1):\n        pxtramo = a[j]*(x-xi[j])**3 + b[j]*(x-xi[j])**2\n        pxtramo = pxtramo + c[j]*(x-xi[j])+ d[j]\n\n        pxtramo = pxtramo.expand()\n        px_tabla.append(pxtramo)#agregamos el polinomio de tramo en la lista vacia\n\n    return(px_tabla)\n\n# Ingresamos los datos\nxi = np.array([0,1,2,3])\nfi=np.array([1, 2.718281828459045,7.38905609893065, 20.085536923187668]) #Ingresamos los valores de e, e^2 y e^3\n#fi = np.array([1,math.exp, math.exp(2), math.exp(3)])\nmuestras = 10 # entre cada par de puntos\n\n\n# Creamos la tabla de polinomios por tramos\nn = len(xi)\npx_tabla = SCNatural(xi,fi)\n\nprint('Polinomios por tramos: ')\nfor tramo in range(1,n,1):\n    print(' x = ['+str(xi[tramo-1])\n          +','+str(xi[tramo])+']')\n    print(str(px_tabla[tramo-1]))",
      "metadata": {
        "trusted": true
      },
      "execution_count": 2,
      "outputs": [
        {
          "name": "stdout",
          "text": "Polinomios por tramos: \n x = [0,1]\n0.252284214284322*x**3 + 1.46599761417472*x + 1.0\n x = [1,2]\n1.69107137059095*x**3 - 4.31636146891989*x**2 + 5.78235908309461*x - 0.438787156306629\n x = [2,3]\n-1.94335558487527*x**3 + 17.4902002638775*x**2 - 37.8307643825001*x + 28.6366284874232\n",
          "output_type": "stream"
        }
      ],
      "id": "8a8b9de3-56a5-459e-8712-a631470ab4ed"
    },
    {
      "cell_type": "code",
      "source": "import math\nY1= math.exp(1)\nY2= math.exp(2)\nY3= math.exp(3)\nprint(Y1)\nprint(Y2)\nprint(Y3)",
      "metadata": {
        "trusted": true
      },
      "execution_count": 1,
      "outputs": [
        {
          "name": "stdout",
          "text": "2.718281828459045\n7.38905609893065\n20.085536923187668\n",
          "output_type": "stream"
        }
      ],
      "id": "e84ffdc3-0111-4553-998a-db25bf49ea55"
    },
    {
      "cell_type": "code",
      "source": "",
      "metadata": {},
      "execution_count": null,
      "outputs": [],
      "id": "0aa63258-c45e-424b-b722-cda0de20c144"
    }
  ]
}