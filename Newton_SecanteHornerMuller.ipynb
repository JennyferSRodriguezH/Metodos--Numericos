{
  "nbformat": 4,
  "nbformat_minor": 0,
  "metadata": {
    "colab": {
      "provenance": [],
      "authorship_tag": "ABX9TyN8DGudhc/QXfDzmo6homlc",
      "include_colab_link": true
    },
    "kernelspec": {
      "name": "python3",
      "display_name": "Python 3"
    },
    "language_info": {
      "name": "python"
    }
  },
  "cells": [
    {
      "cell_type": "markdown",
      "metadata": {
        "id": "view-in-github",
        "colab_type": "text"
      },
      "source": [
        "<a href=\"https://colab.research.google.com/github/JennyferSRodriguezH/Metodos--Numericos/blob/main/Newton_SecanteHornerMuller.ipynb\" target=\"_parent\"><img src=\"https://colab.research.google.com/assets/colab-badge.svg\" alt=\"Open In Colab\"/></a>"
      ]
    },
    {
      "cell_type": "markdown",
      "source": [
        "# Metodo de Newton-Raphson\n",
        "\n",
        "---\n",
        "\n",
        "\n",
        "\n",
        "\n"
      ],
      "metadata": {
        "id": "LD022tmzs0RU"
      }
    },
    {
      "cell_type": "code",
      "source": [
        "# Método de Newton-Raphson\n",
        "\n",
        "\n",
        "import numpy as np\n",
        "\n",
        "# Funcion y su derivada\n",
        "fx  = lambda x: x**3 + 4*(x**2) - 10\n",
        "dfx = lambda x: 3*(x**2) + 8*x\n",
        "\n",
        "a=1\n",
        "b=2\n",
        "x0 = (a+b)/2\n",
        "tolera = 0.001 \n",
        "\n",
        "# PROCEDIMIENTO\n",
        "tabla = [] #para convertirlo en lista \n",
        "tramo = abs(2*tolera)\n",
        "xi = x0 #El valor medio se convirtio en un valor para la sucesion. En este caso seria Pn-1\n",
        "while (tramo>=tolera):\n",
        "    Pn = xi - fx(xi)/dfx(xi)\n",
        "    tramo  = abs(Pn-xi)\n",
        "    tabla.append([xi, Pn])\n",
        "    xi = Pn\n",
        "\n",
        "# convierte la lista a un arreglo.\n",
        "tabla = np.array(tabla)\n",
        "n = len(tabla)\n",
        "\n",
        "# SALIDA\n",
        "print('xi', '\\tPn')\n",
        "np.set_printoptions(precision = 4)\n",
        "print(tabla)\n",
        "print('\\nRaiz en: ', xi)\n",
        "print('\\nError de: ',tramo)"
      ],
      "metadata": {
        "colab": {
          "base_uri": "https://localhost:8080/"
        },
        "id": "RMMyYreYcJpH",
        "outputId": "d78d742e-d689-4212-db6d-7ad7567fe2f5"
      },
      "execution_count": 18,
      "outputs": [
        {
          "output_type": "stream",
          "name": "stdout",
          "text": [
            "xi \tPn\n",
            "[[1.5    1.3733]\n",
            " [1.3733 1.3653]\n",
            " [1.3653 1.3652]]\n",
            "\n",
            "Raiz en:  1.3652300139161466\n",
            "\n",
            "Error de:  3.200095847999407e-05\n"
          ]
        }
      ]
    },
    {
      "cell_type": "markdown",
      "source": [
        "# Metodo de la Secante\n",
        "\n"
      ],
      "metadata": {
        "id": "71NLTP1htH65"
      }
    },
    {
      "cell_type": "code",
      "source": [
        "#Metodo de la secante\n",
        "import numpy as np\n",
        "\n",
        "def secante_tabla(fx,xa):\n",
        "    dx = 4*tolera\n",
        "    xb = xa + dx\n",
        "    tramo = dx\n",
        "    tabla = []\n",
        "    while (tramo>=tolera):\n",
        "        fa = fx(xa)#Funcion evaluada en el punto a\n",
        "        fb = fx(xb)#Funcion evaluada en el punto b\n",
        "        Pn = xa - fa*(xb-xa)/(fb-fa)\n",
        "        tramo = abs(Pn-xa)\n",
        "        \n",
        "        tabla.append([xa,xb,Pn])\n",
        "        xb = xa\n",
        "        xa = Pn\n",
        "\n",
        "    tabla = np.array(tabla)\n",
        "    return(tabla)\n",
        "\n",
        "# Funcion\n",
        "fx = lambda x: x**3 + 4*x**2 - 10\n",
        "\n",
        "a  = 1\n",
        "b  = 2\n",
        "xa = 1.5 #punto medio\n",
        "tolera = 0.001\n",
        "tramos = 100\n",
        "\n",
        "\n",
        "tabla = secante_tabla(fx,xa)\n",
        "n = len(tabla)\n",
        "raiz = tabla[n-1,2]\n",
        "\n",
        "#Se muestra en la pantalla\n",
        "\n",
        "np.set_printoptions(precision=4)\n",
        "print('[xa ,\\t xb , \\t Pn]')\n",
        "for i in range(0,n,1):\n",
        "    print(tabla[i])\n",
        "print('\\nRaiz en: ', raiz)\n",
        "\n",
        "\n",
        "# Para la Grafica\n",
        "import matplotlib.pyplot as plt\n",
        "\n",
        "# Calcula los puntos a graficar\n",
        "xi = np.linspace(a,b,tramos+1)\n",
        "fi = fx(xi)\n",
        "dx = (b-xa)/2\n",
        "pendiente = (fx(xa+dx)-fx(xa))/(xa+dx-xa)\n",
        "b0 = fx(xa) - pendiente*xa\n",
        "tangentei = pendiente*xi+b0\n",
        "\n",
        "fxa = fx(xa)\n",
        "xb = xa + dx\n",
        "fxb = fx(xb)\n",
        "\n",
        "plt.plot(xi,fi, label='f(x)')\n",
        "\n",
        "plt.plot(xi,tangentei, label='secante')\n",
        "plt.plot(xa,fx(xa),'go', label='xa')\n",
        "plt.plot(xa+dx,fx(xa+dx),'ro', label='xb')\n",
        "plt.plot((-b0/pendiente),0,'yo', label='Pn')\n",
        "\n",
        "plt.plot([xa,xa],[0,fxa],'m')\n",
        "plt.plot([xb,xb],[0,fxb],'m')\n",
        "\n",
        "plt.axhline(0, color='k')\n",
        "plt.title('\\nMétodo de la Secante')\n",
        "plt.legend()\n",
        "plt.grid()\n",
        "plt.show()"
      ],
      "metadata": {
        "colab": {
          "base_uri": "https://localhost:8080/",
          "height": 577
        },
        "id": "QWp5dLNIssdG",
        "outputId": "8519396a-4047-4251-ab28-b9667b55630c"
      },
      "execution_count": 25,
      "outputs": [
        {
          "output_type": "stream",
          "name": "stdout",
          "text": [
            "[xa ,\t xb , \t Pn]\n",
            "[1.5    1.504  1.3736]\n",
            "[1.3736 1.5    1.3658]\n",
            "[1.3658 1.3736 1.3652]\n",
            "\n",
            "Raiz en:  1.3652321429167764\n"
          ]
        },
        {
          "output_type": "display_data",
          "data": {
            "text/plain": [
              "<Figure size 640x480 with 1 Axes>"
            ],
            "image/png": "[encoded data removed]"
          },
          "metadata": {}
        }
      ]
    },
    {
      "cell_type": "markdown",
      "source": [
        "## Metodo de Horner"
      ],
      "metadata": {
        "id": "0-jPfSnktPmH"
      }
    },
    {
      "cell_type": "code",
      "source": [
        "a0  =  int ( input( \" \\n Ingresa el termino a la 0 >> \" ))\n",
        "a1  =  int ( input( \" \\n Ingresa el termino a la 1 >> \" ))\n",
        "a2  =  int ( input( \" \\n Ingresa el termino a la 2 >> \" ))\n",
        "a3  =  int ( input( \" \\n Ingresa el termino a la 3 >> \" ))\n",
        "a4  =  int ( input( \" \\n Ingresa el termino a la 4 >> \" ))\n",
        "\n",
        "a = [ a4 , a3 , a2 , a1 , a0 ]\n",
        "def  horner ( a , x ): #implementa metodo de horner\n",
        "        if  len ( a ) == 1 : #Ponemos los coeficientes del polinomio\n",
        "            return  a [ 0 ] #Y en X el valor a evaluar\n",
        "        else:\n",
        "            return a [ 0 ] +  x  *  horner ( a [ 1 :], x )\n",
        "x  =  1\n",
        "\n",
        "print('\\nEl resultado de la division sintetica es:', horner ( a , x ))"
      ],
      "metadata": {
        "colab": {
          "base_uri": "https://localhost:8080/"
        },
        "id": "bpM19IEpv5bu",
        "outputId": "ebbe9ee9-6ad7-4091-9c16-b0421a417d2b"
      },
      "execution_count": 26,
      "outputs": [
        {
          "output_type": "stream",
          "name": "stdout",
          "text": [
            " \n",
            " Ingresa el termino a la 0 >> 3\n",
            " \n",
            " Ingresa el termino a la 1 >> 5\n",
            " \n",
            " Ingresa el termino a la 2 >> 7\n",
            " \n",
            " Ingresa el termino a la 3 >> 2\n",
            " \n",
            " Ingresa el termino a la 4 >> 0\n",
            "E|resultado de la division sintetica es: 17\n"
          ]
        }
      ]
    },
    {
      "cell_type": "markdown",
      "source": [
        "# Metodo de Muller"
      ],
      "metadata": {
        "id": "vbhOSIaata-t"
      }
    },
    {
      "cell_type": "code",
      "source": [
        "import math\n",
        "\n",
        "def muller(f, x0, x1, x2, epsilon=1e-10, max_iter=100):\n",
        "    h1 = x1 - x0\n",
        "    h2 = x2 - x1\n",
        "    y1 = (f(x1) - f(x0)) / h1\n",
        "    y2 = (f(x2) - f(x1)) / h2\n",
        "    d = (y2 - y1) / (h2 + h1)\n",
        "    n_iter = 3\n",
        "    x = None\n",
        "\n",
        "    while n_iter <= max_iter:\n",
        "        b = y2 + h2*d\n",
        "        D = math.sqrt(b**2 - 4*f(x2)*d)\n",
        "\n",
        "        if abs(b-D) < abs(b+D):\n",
        "            E = b + D\n",
        "        else:\n",
        "            E = b - D\n",
        "\n",
        "        h = -2*f(x2)/E\n",
        "        p = x2 + h\n",
        "\n",
        "        if abs(h) < epsilon:\n",
        "            x = p\n",
        "            break\n",
        "\n",
        "        x0, x1, x2 = x1, x2, p\n",
        "        h1 = x1 - x0\n",
        "        h2 = x2 - x1\n",
        "        y1 = (f(x1) - f(x0)) / h1\n",
        "        y2 = (f(x2) - f(x1)) / h2\n",
        "        d = (y2 - y1) / (h2 + h1)\n",
        "        n_iter += 1\n",
        "\n",
        "    if x is None:\n",
        "        raise ValueError(\"El método no converge\")\n",
        "\n",
        "    return x\n",
        "\n",
        "\n",
        "\n",
        "fun = lambda x: x**2 + 2*x - 8\n",
        "\n",
        "muller(fun, 0, 4, 8)# 2.0\n",
        "muller(fun, -10, -6, -1) # -4.0"
      ],
      "metadata": {
        "colab": {
          "base_uri": "https://localhost:8080/"
        },
        "id": "3YX7TAByv9KS",
        "outputId": "ead1b322-8d54-4571-af43-7b9fedbf9dff"
      },
      "execution_count": 28,
      "outputs": [
        {
          "output_type": "execute_result",
          "data": {
            "text/plain": [
              "-4.0"
            ]
          },
          "metadata": {},
          "execution_count": 28
        }
      ]
    },
    {
      "cell_type": "code",
      "source": [
        "import numpy as np\n",
        "import matplotlib . pyplot as plt\n",
        "import math\n",
        "import cmath\n",
        "\n",
        "def muller (f , x0 , x1 , x2 , imax =100 , tol =1e-8):\n",
        "    cumple = False\n",
        "    print ('{:^10 s} {:^10 s} {:^10 s} {:^10 s} {:^10 s} {:^10 s} {:^10 s}←-{:^10 s}'.format ('x0 ','x1 ','x2 ','x3 ','f(x0)','f(x1)','f(x2)','f(x3←-)') )\n",
        "    k =0\n",
        "    while (not cumple and k < imax ) :\n",
        "        d1 =( f ( x1 ) -f ( x0 ) ) /( x1 - x0 )\n",
        "        d2 =( f ( x2 ) -f ( x1 ) ) /( x2 - x1 )\n",
        "        d3 =( d2 - d1 ) /( x2 - x0 )\n",
        "        a = d3\n",
        "        b = d1 - a *( x0 + x1 )\n",
        "        c = f ( x0 ) + x0 *( a * x1 - d1 )\n",
        "        den1 = - b + np . sqrt ( b **2 -4* a * c )\n",
        "        den2 = -b - np . sqrt ( b **2 -4* a * c )\n",
        "        if abs( den1 ) >abs( den2 ) :\n",
        "            x3 =2* c / den1\n",
        "        else:\n",
        "            x3 =2* c / den2\n",
        "\n",
        "        print ('{:10.5 f} {:10.5 f} {:10.5 f} {:10.5 f} {:10.5 f} {:10.5←-f} {:10.5 f} {:10.5 f}'.format ( x0 , x1 , x2 , x3 , f ( x0 ) ,f ( x1 ) ,f ( x2 ) ,f ( x3 ) ) )\n",
        "        x0 = x1\n",
        "        x1 = x2\n",
        "        x2 = x3\n",
        "        cumple =abs( f ( x3 ) ) < tol\n",
        "        k +=1\n",
        "    if k < imax:\n",
        "          return x3\n",
        "    else:\n",
        "          raise ValueError ('La funcion no converge ')\n",
        "\n",
        "# Funcion a evaluar\n",
        "def f ( x ) :\n",
        "  return x**2 + 2*x - 8\n",
        "  #return np . cos ( x ) -x **2\n",
        "\n",
        "\n",
        "def main () :\n",
        "  #valores iniciales\n",
        "  x0 =1\n",
        "  x1 =2\n",
        "  x2 =3\n",
        "# Llamada al algoritmo\n",
        "  raiz = muller (f , x0 , x1 , x2 ,100 ,1e-4)\n",
        "  print ('f ({: e }) ={: e }'. format ( raiz ,f ( raiz ) ) )\n",
        "\n",
        "  x = np . linspace ( -3 ,3 ,100)\n",
        "  y = f ( x)\n",
        "\n",
        "  fig = plt . figure ()\n",
        "  plt . plot (x , y )\n",
        "  plt . title ('$f ( x ) = cos ( x ) - x ^2 $')\n",
        "  plt . scatter ( raiz ,f ( raiz ) )\n",
        "  plt . text ( raiz , f ( raiz ) ,' Raiz '+str( raiz ) , color ='red ')\n",
        "  plt . grid ()\n",
        "  plt . show ()\n",
        "\n",
        "  if __name__ == \" __main__ \": main ()"
      ],
      "metadata": {
        "id": "gqorRRbPqaXx"
      },
      "execution_count": 40,
      "outputs": []
    }
  ]
}