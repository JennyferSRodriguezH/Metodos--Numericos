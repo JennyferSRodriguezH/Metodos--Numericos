{
  "nbformat": 4,
  "nbformat_minor": 0,
  "metadata": {
    "colab": {
      "provenance": [],
      "authorship_tag": "ABX9TyM5PYiGTyHcUNcwyzXXyb79",
      "include_colab_link": true
    },
    "kernelspec": {
      "name": "python3",
      "display_name": "Python 3"
    },
    "language_info": {
      "name": "python"
    }
  },
  "cells": [
    {
      "cell_type": "markdown",
      "metadata": {
        "id": "view-in-github",
        "colab_type": "text"
      },
      "source": [
        "<a href=\"https://colab.research.google.com/github/JennyferSRodriguezH/Metodos--Numericos/blob/main/Muerte_En_La_Reserva.ipynb\" target=\"_parent\"><img src=\"https://colab.research.google.com/assets/colab-badge.svg\" alt=\"Open In Colab\"/></a>"
      ]
    },
    {
      "cell_type": "markdown",
      "source": [
        "**Instrucciones del problema:**"
      ],
      "metadata": {
        "id": "Nqp_kVHyWabc"
      }
    },
    {
      "cell_type": "markdown",
      "source": [
        "\n",
        "\n",
        "Durante una ronda de inspección por una reserva, dos guardabosques descubrieron\n",
        "el cadáver de un jabalí. Un examen preliminar permitió concluir que el animal falleció instantáneamente a causa de un balazo de una cazador furtivo. sospechando que el cazador debía regresar a recoger su presa, los guardas decidieron esperarlo escondidos no lejos del lugar del crimen. Al poco tiempo aparecieron dos sujetos y se dirigieron sin rodeos al jabalí. Al ser detenidos los desconocidos negaron rotundamente su participación en el delito. Aunque los guardabosques tenían pruebas indirectas de su culpabilidad, para obtener una prueba fehaciente era necesario determinar el instante exacto en que el jabalí fue muerto.\n",
        "\n",
        "Conforme a la ley de radiación de calor la velocidad de enfriamiento de un cuerpo en el medio ambiente es proporcionar a la diferencia. Entre la temperatura del cuerpo y la temperatura del medio\n",
        "\n",
        "\n",
        "> $\\frac{dx}{dt} = k(x-a)$\n",
        "\n",
        "\n",
        "\n",
        "Donde x es la temperatura del cuerpo en el instante t, a es la temperatura del medio ambiente y k es un factor positivo de proporcionalidad, x0 es la temperatura del cuerpo en el instante $t = 0$.\n",
        "\n",
        "\n",
        "\n",
        "*   (a) Si en el instante en que fueron detenidos los sospechosos la temperatura $x$ del cuerpo del jabalí era igual a 31°C y pasada una hora era igual a 29°C, entonces, considerando que en el instante del disparo $x = 37C$ y $a= 21C$, y tomando el instante del arresto como $t = 0$, determinar el momento del disparo.\n",
        "*  (b) En el caso cuando la temperatura del aire varía con el tiempo, la ley de enfriamiento del cuerpo se convierte en la ecuación diferencial lineal no homogénea.\n",
        "> $\\frac{dx}{dt} = kx - ka(t)$\n",
        "\n",
        "\n",
        "Donde $a(t)$ es la temperatura del aire en el instante t. Hagamos algunas conjeturas: en el instante de la detención de los sospechosos la temperatura del cuerpo del jabalí era igual a 30°C; el día del acontecimiento la temperatura del aire descendió cada hora después del medio día en 1°C y era igual a 0°C en el instante del hallazgo del cadáver; finalmente, pongamos que al cabo de una hora de ser detectado el animal, su temperatura bajó hasta 25°C. Tomando $t = 0$ como en el instante del disparo, asumiendo que entonces la temperatura corporal del jabalí era $x0 = 37C$ y denotando con t∗ el instante en que los guardabosques descubrieron el cadáver, obtenemos $a(t) = t∗ − t$.\n",
        "\n",
        "\n",
        "Hallar de nuevo el momento en que murió el jabalí.\n",
        "\n"
      ],
      "metadata": {
        "id": "HcZVwTJ9cDbv"
      }
    },
    {
      "cell_type": "markdown",
      "source": [
        "# *Solucion:*"
      ],
      "metadata": {
        "id": "blxhXDG01kyV"
      }
    },
    {
      "cell_type": "markdown",
      "source": [
        "De acuerdo al insciso **a**, tenemos que la formula de la ley de radiacion de calor es:\n",
        "\n",
        "\n",
        "> $\\frac{dx}{dt} = -k(x-a)$     ..............(1)\n",
        "\n",
        "\n",
        "Donde x es la temperatura del cuerpo en el instante t, a es la temperatura del medio ambiente y K es un factor positivo de proporcionalidad.\n",
        "\n",
        "Para obtener la respuesta debemos saber que al integrar no debemos olvidad que el cuerpo del jabali y la temperatura del ambiente pudo permaner invariable, por lo tanto, **al integrar a la ecuacion (1)**, tenemos:\n",
        "\n",
        "\n",
        "\n",
        "> $\\ln( \\frac{x-a}{x_0 - a}) = -kt$ .......................(2)\n",
        "\n",
        "$x \\neq a$        \n",
        "\n",
        "Para determinar el momento del disparo, comenzamos a evaluar la ecuacion 2 con los siguientes valores:\n",
        "\n",
        "\n",
        "*   t=0\n",
        "*   x=37°C\n",
        "*   a=21°C\n",
        "Tenemos que:\n",
        "\n",
        "\n",
        "\n",
        ">**$K= \\ln(\\frac{31-21}{29-21}) = \\ln(1.25) = 0.22314$**\n",
        "\n",
        "\n",
        "Sustituimos el valor de K y x, para poder encontrar a **t** con respecto a la 2 ecuacion:\n",
        "\n",
        "*   $K=0.22314$\n",
        "*   $x=37°C$\n",
        "\n",
        "\n",
        "> $t= - \\frac{1}{0.22314} \\ln(\\frac{37-21}{31-21}) = -\\frac{1}{0.22341} \\ln(1.6) = -2,10630$\n",
        "\n",
        "\n",
        "Por lo tanto, el instante en que se realizo el disparo y el instante en que fueron detenidos trancurrieron alrededor de **2 horas y 6 minutos.**\n",
        "\n"
      ],
      "metadata": {
        "id": "3ib3d3pYL3wq"
      }
    },
    {
      "cell_type": "markdown",
      "source": [
        "Con respecto al inciso **b** donde usamos la ley de radiacion de calor, la cual es:\n",
        "\n",
        "\n",
        ">***$\\frac{dx}{dt} +k = k a(t)$***\n",
        "\n",
        "Tomamos en cuenta que **a(t)** es la temperatura del aire en el instante **t**.\n",
        "Usamos un par de hipotesis:\n",
        "\n",
        "\n",
        "1.   Cuando los sospechosos son detenidos, la temperatura del cuerpo del jabali era igual a los 30°C.\n",
        "2.   Ese mismo dia, la temperatura descendia cada hora despues del medio dia en 1°C y cuando fue hallado el cuerpo era igua a 0°C.\n",
        "3.   Supongamos que que al cabo de 1 hora de ser detectado el cuerpo, su temperatura bajo hasta los 25°C.\n",
        "\n",
        "De manera que: tomando a t=0 como el instante del disparo asumimos que la temperatura del cuerpo del jabali era de x0=37°C y denotando a t* el instante en que los guardabosques descubieron el cadaver, podemos obtener:\n",
        "\n",
        "\n",
        "> **$a(t)=t*-t$**\n",
        "\n",
        "Y al integrarla, podemos observar que:\n",
        "\n",
        "\n",
        "\n",
        "> **$x=(37 - t* - \\frac{1}{k}) e ^{-kt} + t* - t + \\frac{1}{k}$**\n",
        "\n",
        "Recordamos que $x=30$ para  $t=t* $ y que $x=25$ para $t=t*+1$. Podemos obtener las igualdades de:\n",
        "\n",
        "\n",
        "\n",
        "> $(37 - t* - \\frac{1}{k}) e ^ {-k t*} + \\frac{1}{k}=30$\n",
        "\n",
        "\n",
        "> $(37-t*-\\frac{1}{k}) e^{-k(t*+1)} + \\frac{1}{k} =26 $\n",
        "\n",
        "Y a partir de estas dos ecuadiones, podemos en contrar la ecuacion con respecto a **K**:\n",
        "\n",
        "\n",
        "\n",
        "> $(30 - \\frac{1}{k}) e ^{-k} -26 + \\frac{1}{k} =0$ ..............(1)\n",
        "\n",
        "\n",
        "Ahora, sabemos que la ecuacion anterior no se puede resolver con metodos algebraicos, por lo cual, podemos resolverla de una manera mas sencilla utilizando metodos numericos. Especificamente el ***metodo de Newton *** ya que parte de una estimacion inicial de raiz exacta para obtener las aproximaciones de una manera mas precisa.\n",
        "\n",
        "Para esto, tenemos que tomar en cuenta lo siguiente:\n",
        "\n",
        "\n",
        "*   Tomamos a fx como:\n",
        "\n",
        "\n",
        "> $30k -1 + (1-26k)e ^{k} = 0$ .....................(2)\n",
        "\n",
        "(Esto lo obtenemos transformando la ecuacion (1)).\n",
        "\n",
        "\n",
        "*   Y $f´(x)$ como:\n",
        "\n",
        "> $30 - 25e^{k} - 26ke^{k}$\n",
        "\n",
        "\n",
        "\n",
        "*   Su aproximacion sera de $10^{-6}$\n",
        "*   En un intervalo de $(0,1)$"
      ],
      "metadata": {
        "id": "gkj9D2r-1vKQ"
      }
    },
    {
      "cell_type": "markdown",
      "source": [
        "Para comprobar si nuestro resultado es correcto, se utilozaran dos metodos de aproximaciones:\n",
        "\n",
        "\n",
        "1.   El Metodo de Newton\n",
        "2.   El Metodo de la Secante\n",
        "\n",
        "Dichos metodos nos arrojaran la misma aproximacion.\n",
        "\n"
      ],
      "metadata": {
        "id": "u3kbqQ8pPUgK"
      }
    },
    {
      "cell_type": "code",
      "source": [
        "#PARA IMPLEMENTAR EL CODIGO, SE HARA UN CAMBIO DE VARIABLE DE K=X\n",
        "\n",
        "# Método de Newton-Raphson\n",
        "import numpy as np\n",
        "import math\n",
        "\n",
        "# Funcion y su derivada\n",
        "fx  = lambda x: 30*x -1 +(1-26*x)*math.exp(x)\n",
        "dfx = lambda x: 30-25*math.exp(x)-26*x*math.exp(x)\n",
        "\n",
        "a=1\n",
        "b=0\n",
        "x0 = (a+b)/2\n",
        "tolera = 0.000001\n",
        "\n",
        "# PROCEDIMIENTO\n",
        "tabla = [] #para convertirlo en lista\n",
        "tramo = abs(2*tolera)\n",
        "xi = x0 #El valor medio se convirtio en un valor para la sucesion. En este caso seria Pn-1\n",
        "while (tramo>=tolera):\n",
        "    Pn = xi - fx(xi)/dfx(xi)\n",
        "    tramo  = abs(Pn-xi)\n",
        "    tabla.append([xi, Pn])\n",
        "    xi = Pn\n",
        "\n",
        "# convierte la lista a un arreglo.\n",
        "tabla = np.array(tabla)\n",
        "n = len(tabla)\n",
        "\n",
        "# SALIDA\n",
        "print('xi', '\\tPn')\n",
        "np.set_printoptions(precision = 4)\n",
        "print(tabla)\n",
        "print('\\nRaiz en: ', xi)\n",
        "print('\\nError de: ',tramo)"
      ],
      "metadata": {
        "colab": {
          "base_uri": "https://localhost:8080/"
        },
        "id": "RMMyYreYcJpH",
        "outputId": "6b90113b-1a0b-4f58-926d-b47423a6c0e7"
      },
      "execution_count": null,
      "outputs": [
        {
          "output_type": "stream",
          "name": "stdout",
          "text": [
            "xi \tPn\n",
            "[[0.5    0.3228]\n",
            " [0.3228 0.2282]\n",
            " [0.2282 0.1885]\n",
            " [0.1885 0.1795]\n",
            " [0.1795 0.179 ]\n",
            " [0.179  0.179 ]\n",
            " [0.179  0.179 ]]\n",
            "\n",
            "Raiz en:  0.17895246315275215\n",
            "\n",
            "Error de:  1.4123535674315235e-11\n"
          ]
        }
      ]
    },
    {
      "cell_type": "code",
      "source": [
        "#Metodo de la secante\n",
        "import numpy as np\n",
        "import math\n",
        "\n",
        "def secante_tabla(fx,xa):\n",
        "    dx = 4*tolera\n",
        "    xb = xa + dx\n",
        "    tramo = dx\n",
        "    tabla = []\n",
        "    while (tramo>=tolera):\n",
        "        fa = fx(xa)#Funcion evaluada en el punto a\n",
        "        fb = fx(xb)#Funcion evaluada en el punto b\n",
        "        Pn = xa - fa*(xb-xa)/(fb-fa)\n",
        "        tramo = abs(Pn-xa)\n",
        "\n",
        "        tabla.append([xa,xb,Pn])\n",
        "        xb = xa\n",
        "        xa = Pn\n",
        "\n",
        "    tabla = np.array(tabla)\n",
        "    return(tabla)\n",
        "\n",
        "# Funcion\n",
        "#fx = lambda x: x**3 + 4*x**2 - 10\n",
        "fx  = lambda x: 30*x -1 +(1-26*x)*math.exp(x)\n",
        "\n",
        "a  = 1\n",
        "b  = 0\n",
        "xa = 0.5 #punto medio\n",
        "#xa=0.178952\n",
        "tolera = 0.001\n",
        "tramos = 100\n",
        "\n",
        "\n",
        "tabla = secante_tabla(fx,xa)\n",
        "n = len(tabla)\n",
        "raiz = tabla[n-1,2]\n",
        "\n",
        "#Se muestra en la pantalla\n",
        "\n",
        "np.set_printoptions(precision=4)\n",
        "print('[xa ,\\t xb , \\t Pn]')\n",
        "for i in range(0,n,1):\n",
        "    print(tabla[i])\n",
        "print('\\nRaiz en: ', raiz)\n"
      ],
      "metadata": {
        "colab": {
          "base_uri": "https://localhost:8080/"
        },
        "id": "QWp5dLNIssdG",
        "outputId": "546833a3-6f03-441a-97f7-b6a26de710fc"
      },
      "execution_count": null,
      "outputs": [
        {
          "output_type": "stream",
          "name": "stdout",
          "text": [
            "[xa ,\t xb , \t Pn]\n",
            "[0.5   0.504 0.324]\n",
            "[0.324  0.5    0.2599]\n",
            "[0.2599 0.324  0.2109]\n",
            "[0.2109 0.2599 0.1886]\n",
            "[0.1886 0.2109 0.1805]\n",
            "[0.1805 0.1886 0.179 ]\n",
            "[0.179  0.1805 0.179 ]\n",
            "\n",
            "Raiz en:  0.1789532455053561\n"
          ]
        }
      ]
    },
    {
      "cell_type": "markdown",
      "source": [
        "Como vimos, ambos metodos nos arrojan el mismo valor de la raiz."
      ],
      "metadata": {
        "id": "G7RVAQcXP-CG"
      }
    },
    {
      "cell_type": "markdown",
      "source": [
        "En la columna de **Pn** podemos observar las aproximaxiones de manera mas sencilla.\n",
        "\n",
        "En este caso, el valor de su raiz es nuestra respuesta. Por lo tanto, usamos a la ecuacion (2) y despues de sustiruir a x=37 tenemos una nueva ecuacion para buscar el valor del tiempo usando ***por segunda vez el metodo de Newton y el de la Secante.***\n",
        "\n",
        "Usamos los siguientes datos:\n",
        "\n",
        "\n",
        "\n",
        "\n",
        "*   $fx = 30k -1 +(1-26k)e^{k}$   \n",
        "*   $f´x= ke^{kt}-30k+1$\n",
        "*   $K= 0.178952$\n",
        "*   $t_0= -1$\n",
        "\n"
      ],
      "metadata": {
        "id": "X_Upe4TKvR2o"
      }
    },
    {
      "cell_type": "code",
      "source": [
        "\n",
        "\n",
        "# Método de Newton-Raphson\n",
        "import numpy as np\n",
        "import math\n",
        "\n",
        "# Funcion y su derivada\n",
        "ft  = lambda t: (37*(0.178952) -1 +((0.178952)*t))*math.exp((0.178952)*t) -30*(0.178952)+1\n",
        "dft = lambda t: (1.184881277)*math.exp((0.178952)*t)+(0.178952)*math.exp((0.178952)*t)\n",
        "\n",
        "\n",
        "#a=1\n",
        "#b=0\n",
        "t0 = -1\n",
        "#k=0.178952\n",
        "tolera = 0.000001\n",
        "\n",
        "# PROCEDIMIENTO\n",
        "tabla = [] #para convertirlo en lista\n",
        "tramo = abs(2*tolera)\n",
        "ti = t0 #El valor medio se convirtio en un valor para la sucesion. En este caso seria Pn-1\n",
        "while (tramo>=tolera):\n",
        "    Pn = ti - ft(ti)/dft(ti)\n",
        "    tramo  = abs(Pn-ti)\n",
        "    tabla.append([ti, Pn])\n",
        "    ti = Pn\n",
        "\n",
        "# convierte la lista a un arreglo.\n",
        "tabla = np.array(tabla)\n",
        "n = len(tabla)\n",
        "\n",
        "# SALIDA\n",
        "print('xi', '\\tPn')\n",
        "np.set_printoptions(precision = 4)\n",
        "print(tabla)\n",
        "print('\\nRaiz en: ', ti)\n",
        "print('\\nError de: ',tramo)"
      ],
      "metadata": {
        "id": "caHR7KrHDvgz",
        "colab": {
          "base_uri": "https://localhost:8080/"
        },
        "outputId": "d0eb5256-c1a2-4c8d-f558-805386594597"
      },
      "execution_count": null,
      "outputs": [
        {
          "output_type": "stream",
          "name": "stdout",
          "text": [
            "xi \tPn\n",
            "[[-1.     -1.1596]\n",
            " [-1.1596 -1.1872]\n",
            " [-1.1872 -1.1917]\n",
            " [-1.1917 -1.1924]\n",
            " [-1.1924 -1.1925]\n",
            " [-1.1925 -1.1926]\n",
            " [-1.1926 -1.1926]\n",
            " [-1.1926 -1.1926]]\n",
            "\n",
            "Raiz en:  -1.192561459018511\n",
            "\n",
            "Error de:  4.588535034155683e-07\n"
          ]
        }
      ]
    },
    {
      "cell_type": "code",
      "source": [
        "#Metodo de la secante\n",
        "import numpy as np\n",
        "import math\n",
        "\n",
        "def secante_tabla(fx,xa):\n",
        "    dx = 4*tolera\n",
        "    xb = xa + dx\n",
        "    tramo = dx\n",
        "    tabla = []\n",
        "    while (tramo>=tolera):\n",
        "        fa = fx(xa)#Funcion evaluada en el punto a\n",
        "        fb = fx(xb)#Funcion evaluada en el punto b\n",
        "        Pn = xa - fa*(xb-xa)/(fb-fa)\n",
        "        tramo = abs(Pn-xa)\n",
        "\n",
        "        tabla.append([xa,xb,Pn])\n",
        "        xb = xa\n",
        "        xa = Pn\n",
        "\n",
        "    tabla = np.array(tabla)\n",
        "    return(tabla)\n",
        "\n",
        "# Funcion\n",
        "#fx = lambda x: x**3 + 4*x**2 - 10\n",
        "#fx  = lambda x: 30*x -1 +(1-26*x)*math.exp(x)\n",
        "fx = lambda x: (37*(0.178952) -1 +((0.178952)*x))*math.exp((0.178952)*x) -30*(0.178952)+1\n",
        "\n",
        "a  = 1\n",
        "b  = 0\n",
        "xa = -1 #punto medio\n",
        "#xa=0.178952\n",
        "tolera = 0.000001\n",
        "tramos = 100\n",
        "\n",
        "\n",
        "tabla = secante_tabla(fx,xa)\n",
        "n = len(tabla)\n",
        "raiz = tabla[n-1,2]\n",
        "\n",
        "#Se muestra en la pantalla\n",
        "\n",
        "np.set_printoptions(precision=4)\n",
        "print('[xa ,\\t xb , \\t Pn]')\n",
        "for i in range(0,n,1):\n",
        "    print(tabla[i])\n",
        "print('\\nRaiz en: ', raiz)\n",
        "\n",
        "\n",
        "# Para la Grafica\n",
        "import matplotlib.pyplot as plt\n"
      ],
      "metadata": {
        "colab": {
          "base_uri": "https://localhost:8080/"
        },
        "outputId": "45176be8-92c9-4eba-9297-466be3626a0f",
        "id": "JBfYKXK1Uhrm"
      },
      "execution_count": null,
      "outputs": [
        {
          "output_type": "stream",
          "name": "stdout",
          "text": [
            "[xa ,\t xb , \t Pn]\n",
            "[-1.     -1.     -1.1888]\n",
            "[-1.1888 -1.     -1.1925]\n",
            "[-1.1925 -1.1888 -1.1926]\n",
            "[-1.1926 -1.1925 -1.1926]\n",
            "\n",
            "Raiz en:  -1.1925615459088013\n"
          ]
        }
      ]
    },
    {
      "cell_type": "markdown",
      "source": [
        "Por lo tanto, el momento en que el jabali murio fue aproximadamente **1 hora y 12 minutos o 1 hora con 19 minutos** antes de que los guardabosques lo encontraran."
      ],
      "metadata": {
        "id": "2s0PjckFWK-m"
      }
    }
  ]
}